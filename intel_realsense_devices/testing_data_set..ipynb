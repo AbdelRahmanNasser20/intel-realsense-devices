{
 "cells": [
  {
   "cell_type": "code",
   "execution_count": 51,
   "metadata": {},
   "outputs": [
    {
     "name": "stdout",
     "output_type": "stream",
     "text": [
      "there are 30 images\n",
      "starting at frame 2\n",
      "Frames array [ 2  3  4  5  6  7  8  9 10 11 12 13 14 15 16 17 18 19 20 21 22 23 24 25\n",
      " 26 27 28 29 30 31]\n"
     ]
    }
   ],
   "source": [
    "import h5py\n",
    "from matplotlib import pyplot as plt\n",
    "from time import sleep\n",
    "import numpy as np\n",
    "import cv2\n",
    "from intel_realsense_devices.helper import colorize\n",
    "\n",
    "filename = r\"test_files\\test.h5py\"\n",
    "with h5py.File(filename, \"r\") as f:\n",
    "\n",
    "    frames = f.get(\"frameN\")[:]\n",
    "    depth = f.get(\"depth\")[:]\n",
    "    color = f.get(\"color\")[:]\n",
    "    infrared = f.get(\"infrared\")[:]\n",
    "\n",
    "    num_of_imgs = frames.shape[0]\n",
    "\n",
    "    print(f'there are {num_of_imgs} images')\n",
    "    print(f\"starting at frame {frames[0]}\\nFrames array {frames}\")\n",
    "\n"
   ]
  },
  {
   "cell_type": "code",
   "execution_count": 52,
   "metadata": {},
   "outputs": [],
   "source": [
    "# from intel_realsense_devices.recorder import Recorder\n",
    "# config_filename = \"test_files\\config_L151_f1320305.yaml\"\n",
    "# h5py_filename = \"test_files\\test.h5py\"\n",
    "# recorder = Recorder(config_filename, h5py_filename)\n",
    "# print(f'Frame array {recorder.device.buffers[\"frameN\"].get_all()}')\n",
    "\n",
    "# recorder.stream_buffer"
   ]
  },
  {
   "cell_type": "code",
   "execution_count": 59,
   "metadata": {},
   "outputs": [],
   "source": [
    "# live stream color imgs in slow motion\n",
    "for i in range(num_of_imgs):\n",
    "    if color[i] is not None:\n",
    "        sleep(.1)\n",
    "        cv2.imshow(\"Color\", color[i])\n",
    "\n",
    "    key = cv2.waitKey(10)\n",
    "    if key != -1:\n",
    "        cv2.destroyAllWindows()\n",
    "cv2.destroyAllWindows()\n"
   ]
  },
  {
   "cell_type": "code",
   "execution_count": 60,
   "metadata": {},
   "outputs": [
    {
     "name": "stdout",
     "output_type": "stream",
     "text": [
      "STD is  68.83210761380705\n",
      "Mean is  75.76443\n"
     ]
    }
   ],
   "source": [
    "print(\"STD is \" , np.std(color, dtype=np.float64))\n",
    "print(\"Mean is \" , np.mean(color, dtype=np.float32))"
   ]
  },
  {
   "cell_type": "code",
   "execution_count": null,
   "metadata": {},
   "outputs": [],
   "source": [
    "psum    = torch.tensor([0.0, 0.0, 0.0])\n",
    "psum_sq = torch.tensor([0.0, 0.0, 0.0])\n",
    "\n",
    "# loop through images\n",
    "for inputs in tqdm(image_loader):\n",
    "    psum    += inputs.sum(axis        = [0, 2, 3])\n",
    "    psum_sq += (inputs ** 2).sum(axis = [0, 2, 3])"
   ]
  }
 ],
 "metadata": {
  "kernelspec": {
   "display_name": "Python 3.8.0 64-bit (system)",
   "language": "python",
   "name": "python3"
  },
  "language_info": {
   "codemirror_mode": {
    "name": "ipython",
    "version": 3
   },
   "file_extension": ".py",
   "mimetype": "text/x-python",
   "name": "python",
   "nbconvert_exporter": "python",
   "pygments_lexer": "ipython3",
   "version": "3.8.0"
  },
  "orig_nbformat": 4,
  "vscode": {
   "interpreter": {
    "hash": "76d7bd5c9a9eda3e79007884101c4a73f741dff3b57b22085fd7cda244a5fb76"
   }
  }
 },
 "nbformat": 4,
 "nbformat_minor": 2
}
