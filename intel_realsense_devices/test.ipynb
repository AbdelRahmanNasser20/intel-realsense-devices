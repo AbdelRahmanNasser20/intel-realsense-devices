{
 "cells": [
  {
   "cell_type": "code",
   "execution_count": 87,
   "metadata": {},
   "outputs": [
    {
     "name": "stdout",
     "output_type": "stream",
     "text": [
      "There are 30 images\n",
      "Starting at frame 3\n",
      "Frames array [ 3  4  5  6  7  8  9 10 11 12 13 14 15 16 17 18 19 20 21 22 23 24 25 26\n",
      " 27 28 29 30 31 32]\n"
     ]
    },
    {
     "data": {
      "image/png": "[encoded data removed]",
      "text/plain": [
       "<Figure size 432x288 with 1 Axes>"
      ]
     },
     "metadata": {
      "needs_background": "light"
     },
     "output_type": "display_data"
    }
   ],
   "source": [
    "import h5py\n",
    "from matplotlib import pyplot as plt\n",
    "from time import sleep\n",
    "import numpy as np\n",
    "import cv2\n",
    "\n",
    "filename = r\"test_files\\test.h5py\"\n",
    "with h5py.File(filename, \"r\") as f:\n",
    "\n",
    "    frames = f.get(\"frameN\")[:]\n",
    "    depth = f.get(\"depth\")[:]\n",
    "    # color = f.get(\"color\")[:]\n",
    "    infrared = f.get(\"infrared\")[:]\n",
    "    plt.imshow(depth[0])\n",
    "    num_of_imgs = frames.shape[0]\n",
    "\n",
    "    print(f'There are {num_of_imgs} images')\n",
    "    print(f\"Starting at frame {frames[0]}\\nFrames array {frames}\")"
   ]
  },
  {
   "cell_type": "code",
   "execution_count": 2,
   "metadata": {},
   "outputs": [
    {
     "ename": "RuntimeError",
     "evalue": "Frame didn't arrive within 5000",
     "output_type": "error",
     "traceback": [
      "\u001b[1;31m---------------------------------------------------------------------------\u001b[0m",
      "\u001b[1;31mRuntimeError\u001b[0m                              Traceback (most recent call last)",
      "\u001b[1;32mc:\\Users\\Abdel Nasser\\Documents\\L151 Camera\\intel-realsense-devices\\intel_realsense_devices\\test.ipynb Cell 2\u001b[0m in \u001b[0;36m<cell line: 5>\u001b[1;34m()\u001b[0m\n\u001b[0;32m      <a href='vscode-notebook-cell:/c%3A/Users/Abdel%20Nasser/Documents/L151%20Camera/intel-realsense-devices/intel_realsense_devices/test.ipynb#ch0000001?line=2'>3</a>\u001b[0m config_filename \u001b[39m=\u001b[39m \u001b[39m\"\u001b[39m\u001b[39mtest_files\u001b[39m\u001b[39m\\\u001b[39m\u001b[39mconfig_L151_f1320305.yaml\u001b[39m\u001b[39m\"\u001b[39m\n\u001b[0;32m      <a href='vscode-notebook-cell:/c%3A/Users/Abdel%20Nasser/Documents/L151%20Camera/intel-realsense-devices/intel_realsense_devices/test.ipynb#ch0000001?line=3'>4</a>\u001b[0m recorder \u001b[39m=\u001b[39m Recorder(config_filename, \u001b[39m\"\u001b[39m\u001b[39mrandom\u001b[39m\u001b[39m\"\u001b[39m)\n\u001b[1;32m----> <a href='vscode-notebook-cell:/c%3A/Users/Abdel%20Nasser/Documents/L151%20Camera/intel-realsense-devices/intel_realsense_devices/test.ipynb#ch0000001?line=4'>5</a>\u001b[0m recorder\u001b[39m.\u001b[39;49mlive_stream()\n",
      "File \u001b[1;32mc:\\users\\abdel nasser\\documents\\l151 camera\\intel-realsense-devices\\intel_realsense_devices\\recorder.py:174\u001b[0m, in \u001b[0;36mRecorder.live_stream\u001b[1;34m(self)\u001b[0m\n\u001b[0;32m    169\u001b[0m \u001b[39m\"\"\"\u001b[39;00m\n\u001b[0;32m    170\u001b[0m \u001b[39mLive stream for testing purpose.\u001b[39;00m\n\u001b[0;32m    171\u001b[0m \u001b[39mEx: positioning the camera \u001b[39;00m\n\u001b[0;32m    172\u001b[0m \u001b[39m\"\"\"\u001b[39;00m\n\u001b[0;32m    173\u001b[0m \u001b[39mwhile\u001b[39;00m \u001b[39mTrue\u001b[39;00m:\n\u001b[1;32m--> 174\u001b[0m     \u001b[39mdict\u001b[39m \u001b[39m=\u001b[39m \u001b[39mself\u001b[39;49m\u001b[39m.\u001b[39;49mdevice\u001b[39m.\u001b[39;49mdriver\u001b[39m.\u001b[39;49mget_images()\n\u001b[0;32m    176\u001b[0m     color \u001b[39m=\u001b[39m \u001b[39mdict\u001b[39m[COLOR]\n\u001b[0;32m    177\u001b[0m     depth \u001b[39m=\u001b[39m \u001b[39mdict\u001b[39m[DEPTH]\n",
      "File \u001b[1;32mc:\\users\\abdel nasser\\documents\\l151 camera\\intel-realsense-devices\\intel_realsense_devices\\driver.py:273\u001b[0m, in \u001b[0;36mDriver.get_images\u001b[1;34m(self)\u001b[0m\n\u001b[0;32m    267\u001b[0m \u001b[39m\"\"\"\u001b[39;00m\n\u001b[0;32m    268\u001b[0m \u001b[39mSetting up a dict containing images that are recived from the pipline\u001b[39;00m\n\u001b[0;32m    269\u001b[0m \u001b[39mParameters: Nothing\u001b[39;00m\n\u001b[0;32m    270\u001b[0m \u001b[39mReturns: Dict containing images  \u001b[39;00m\n\u001b[0;32m    271\u001b[0m \u001b[39m\"\"\"\u001b[39;00m\n\u001b[0;32m    272\u001b[0m \u001b[39mfrom\u001b[39;00m \u001b[39mlogging\u001b[39;00m \u001b[39mimport\u001b[39;00m error,warn,info,debug\n\u001b[1;32m--> 273\u001b[0m f \u001b[39m=\u001b[39m \u001b[39mself\u001b[39;49m\u001b[39m.\u001b[39;49mpipeline[IMAGE]\u001b[39m.\u001b[39;49mwait_for_frames()\n\u001b[0;32m    275\u001b[0m \u001b[39m#collect the frame for each frame type\u001b[39;00m\n\u001b[0;32m    276\u001b[0m frameN \u001b[39m=\u001b[39m f\u001b[39m.\u001b[39mget_frame_number()\n",
      "\u001b[1;31mRuntimeError\u001b[0m: Frame didn't arrive within 5000"
     ]
    },
    {
     "ename": "",
     "evalue": "",
     "output_type": "error",
     "traceback": [
      "\u001b[1;31mThe Kernel crashed while executing code in the the current cell or a previous cell. Please review the code in the cell(s) to identify a possible cause of the failure. Click <a href='https://aka.ms/vscodeJupyterKernelCrash'>here</a> for more info. View Jupyter <a href='command:jupyter.viewOutput'>log</a> for further details."
     ]
    }
   ],
   "source": [
    "# live stream to see what you are recording\n",
    "from intel_realsense_devices.recorder import Recorder\n",
    "config_filename = \"test_files\\config_L151_f1320305.yaml\"\n",
    "recorder = Recorder(config_filename, \"random\")\n",
    "recorder.live_stream()\n"
   ]
  },
  {
   "cell_type": "code",
   "execution_count": 76,
   "metadata": {},
   "outputs": [],
   "source": [
    "# computation class that calcualtes stats of an image\n",
    "import numpy as np\n",
    "import statistics\n",
    "from matplotlib import pyplot as plt\n",
    "RGB = 3\n",
    "class Computation:\n",
    "    \n",
    "    def __init__(self, frame_array, frame_type, rgb):\n",
    "        self.frame_array = frame_array\n",
    "        self.num_of_imgs = frame_array.shape[0]\n",
    "        self.row = frame_array.shape[1]\n",
    "        self.col = frame_array.shape[2]\n",
    "        self.rgb = rgb\n",
    "        self.frame_type = frame_type\n",
    "\n",
    "        self.mean = np.mean(frame_array, axis = 0, dtype=np.float64)\n",
    "        self.std = np.std(frame_array, axis = 0, dtype=np.float64)\n",
    "        self.variance =  np.var(frame_array, axis = 0, dtype=np.float64)\n",
    "\n",
    "        self.median = np.median(frame_array, axis = 0)\n",
    "        self.max = np.amax(frame_array, axis = 0)\n",
    "        self.min = np.amin(frame_array, axis = 0)\n",
    "    \n",
    "    def print_computation(self):\n",
    "        dicts = {\"first image\": self.frame_array[0],\n",
    "                \"mean\" : self.mean,\n",
    "                \"std\" : self.std,\n",
    "                \"variance\" : self.variance,\n",
    "                \"median\" : self.median,\n",
    "                \"min\" : self.min,\n",
    "                \"max\" : self.max,\n",
    "        }\n",
    "        for key, val in dicts.items():\n",
    "            plt.figure()\n",
    "            plt.imshow(val)\n",
    "            plt.colorbar()\n",
    "            plt.title(key)\n",
    "\n",
    "depth_computation = Computation(depth,\"Depth\", False)\n",
    "depth_computation.print_computation()"
   ]
  },
  {
   "cell_type": "code",
   "execution_count": 81,
   "metadata": {},
   "outputs": [
    {
     "ename": "TypeError",
     "evalue": "stat: path should be string, bytes, os.PathLike or integer, not File",
     "output_type": "error",
     "traceback": [
      "\u001b[1;31m---------------------------------------------------------------------------\u001b[0m",
      "\u001b[1;31mTypeError\u001b[0m                                 Traceback (most recent call last)",
      "\u001b[1;32mc:\\Users\\Abdel Nasser\\Documents\\L151 Camera\\intel-realsense-devices\\intel_realsense_devices\\test.ipynb Cell 8\u001b[0m in \u001b[0;36m<cell line: 7>\u001b[1;34m()\u001b[0m\n\u001b[0;32m      <a href='vscode-notebook-cell:/c%3A/Users/Abdel%20Nasser/Documents/L151%20Camera/intel-realsense-devices/intel_realsense_devices/test.ipynb#ch0000034?line=7'>8</a>\u001b[0m file \u001b[39m=\u001b[39m os\u001b[39m.\u001b[39mpath\u001b[39m.\u001b[39mjoin(directory, filename)\n\u001b[0;32m     <a href='vscode-notebook-cell:/c%3A/Users/Abdel%20Nasser/Documents/L151%20Camera/intel-realsense-devices/intel_realsense_devices/test.ipynb#ch0000034?line=9'>10</a>\u001b[0m \u001b[39m# checking if it is a file\u001b[39;00m\n\u001b[1;32m---> <a href='vscode-notebook-cell:/c%3A/Users/Abdel%20Nasser/Documents/L151%20Camera/intel-realsense-devices/intel_realsense_devices/test.ipynb#ch0000034?line=10'>11</a>\u001b[0m \u001b[39mif\u001b[39;00m os\u001b[39m.\u001b[39;49mpath\u001b[39m.\u001b[39;49misfile(f):\n\u001b[0;32m     <a href='vscode-notebook-cell:/c%3A/Users/Abdel%20Nasser/Documents/L151%20Camera/intel-realsense-devices/intel_realsense_devices/test.ipynb#ch0000034?line=11'>12</a>\u001b[0m     files\u001b[39m.\u001b[39mappend(file)\n",
      "File \u001b[1;32mc:\\Users\\Abdel Nasser\\Desktop\\Python\\python38\\lib\\genericpath.py:30\u001b[0m, in \u001b[0;36misfile\u001b[1;34m(path)\u001b[0m\n\u001b[0;32m     28\u001b[0m \u001b[39m\"\"\"Test whether a path is a regular file\"\"\"\u001b[39;00m\n\u001b[0;32m     29\u001b[0m \u001b[39mtry\u001b[39;00m:\n\u001b[1;32m---> 30\u001b[0m     st \u001b[39m=\u001b[39m os\u001b[39m.\u001b[39;49mstat(path)\n\u001b[0;32m     31\u001b[0m \u001b[39mexcept\u001b[39;00m (\u001b[39mOSError\u001b[39;00m, \u001b[39mValueError\u001b[39;00m):\n\u001b[0;32m     32\u001b[0m     \u001b[39mreturn\u001b[39;00m \u001b[39mFalse\u001b[39;00m\n",
      "\u001b[1;31mTypeError\u001b[0m: stat: path should be string, bytes, os.PathLike or integer, not File"
     ]
    }
   ],
   "source": [
    "# testing files in my dierctory\n",
    "import os\n",
    "# assign directory\n",
    "# C:\\Users\\ABDELN~1\\AppData\\Local\\Temp\\tmpeyfnacfd \n",
    "# This contains my first test using 10 files for 10 images\n",
    "directory = r\"C:\\Users\\ABDELN~1\\AppData\\Local\\Temp\\tmpeyfnacfd\"\n",
    "files = []\n",
    "# iterate over files in\n",
    "# that directory\n",
    "for filename in os.listdir(directory):\n",
    "    file = os.path.join(directory, filename)\n",
    "    \n",
    "    # checking if it is a file\n",
    "    if os.path.isfile(f):\n",
    "        files.append(file)"
   ]
  },
  {
   "cell_type": "code",
   "execution_count": 1,
   "metadata": {},
   "outputs": [],
   "source": [
    "from matplotlib import pyplot as plt\n",
    "from time import time, sleep\n",
    "import tempfile \n",
    "from time import sleep\n",
    "import h5py\n",
    "import os\n",
    "import numpy as np\n",
    "import cv2\n",
    "\n",
    "COLOR = \"color\"\n",
    "FRAMEN = \"framen\"\n",
    "DEPTH = \"depth\"\n",
    "INFRARED = \"infrared\"\n",
    "\n",
    "MEAN = \"mean\"\n",
    "STD = \"std\"\n",
    "VAR = \"VAR\""
   ]
  },
  {
   "cell_type": "code",
   "execution_count": 1,
   "metadata": {},
   "outputs": [
    {
     "name": "stdout",
     "output_type": "stream",
     "text": [
      "Intensity  0\n",
      "stopping both\n"
     ]
    },
    {
     "ename": "AttributeError",
     "evalue": "'NoneType' object has no attribute 'get_device'",
     "output_type": "error",
     "traceback": [
      "\u001b[1;31m---------------------------------------------------------------------------\u001b[0m",
      "\u001b[1;31mAttributeError\u001b[0m                            Traceback (most recent call last)",
      "\u001b[1;32mc:\\Users\\Abdel Nasser\\Documents\\L151 Camera\\intel-realsense-devices\\intel_realsense_devices\\test.ipynb Cell 6\u001b[0m in \u001b[0;36m<cell line: 11>\u001b[1;34m()\u001b[0m\n\u001b[0;32m     <a href='vscode-notebook-cell:/c%3A/Users/Abdel%20Nasser/Documents/L151%20Camera/intel-realsense-devices/intel_realsense_devices/test.ipynb#W5sZmlsZQ%3D%3D?line=17'>18</a>\u001b[0m     recorder\u001b[39m.\u001b[39mstop()\n\u001b[0;32m     <a href='vscode-notebook-cell:/c%3A/Users/Abdel%20Nasser/Documents/L151%20Camera/intel-realsense-devices/intel_realsense_devices/test.ipynb#W5sZmlsZQ%3D%3D?line=18'>19</a>\u001b[0m     recorder\u001b[39m.\u001b[39msave_h5py_file()\n\u001b[1;32m---> <a href='vscode-notebook-cell:/c%3A/Users/Abdel%20Nasser/Documents/L151%20Camera/intel-realsense-devices/intel_realsense_devices/test.ipynb#W5sZmlsZQ%3D%3D?line=19'>20</a>\u001b[0m     recorder\u001b[39m.\u001b[39;49mdevice\u001b[39m.\u001b[39;49mdriver\u001b[39m.\u001b[39;49mhardware_reset()\n\u001b[0;32m     <a href='vscode-notebook-cell:/c%3A/Users/Abdel%20Nasser/Documents/L151%20Camera/intel-realsense-devices/intel_realsense_devices/test.ipynb#W5sZmlsZQ%3D%3D?line=20'>21</a>\u001b[0m     sleep(\u001b[39m5\u001b[39m)\n\u001b[0;32m     <a href='vscode-notebook-cell:/c%3A/Users/Abdel%20Nasser/Documents/L151%20Camera/intel-realsense-devices/intel_realsense_devices/test.ipynb#W5sZmlsZQ%3D%3D?line=21'>22</a>\u001b[0m \u001b[39mprint\u001b[39m(f)\n",
      "File \u001b[1;32mc:\\users\\abdel nasser\\documents\\l151 camera\\intel-realsense-devices\\intel_realsense_devices\\driver.py:202\u001b[0m, in \u001b[0;36mDriver.hardware_reset\u001b[1;34m(self)\u001b[0m\n\u001b[0;32m    198\u001b[0m \u001b[39m\"\"\"\u001b[39;00m\n\u001b[0;32m    199\u001b[0m \u001b[39mresets hardware\u001b[39;00m\n\u001b[0;32m    200\u001b[0m \u001b[39m\"\"\"\u001b[39;00m\n\u001b[0;32m    201\u001b[0m \u001b[39mfor\u001b[39;00m frame \u001b[39min\u001b[39;00m \u001b[39mself\u001b[39m\u001b[39m.\u001b[39mprofile\u001b[39m.\u001b[39mkeys():\n\u001b[1;32m--> 202\u001b[0m     dev \u001b[39m=\u001b[39m \u001b[39mself\u001b[39;49m\u001b[39m.\u001b[39;49mprofile[frame]\u001b[39m.\u001b[39;49mget_device()\n\u001b[0;32m    203\u001b[0m     dev\u001b[39m.\u001b[39mhardware_reset()\n",
      "\u001b[1;31mAttributeError\u001b[0m: 'NoneType' object has no attribute 'get_device'"
     ]
    }
   ],
   "source": [
    "import tempfile  \n",
    "# creates a temp dir that stores the h5oy files \n",
    "f = tempfile.mkdtemp()\n",
    "files = []\n",
    "from intel_realsense_devices.recorder import Recorder\n",
    "laser_intensity_factor = 20\n",
    "\n",
    "config_filename = \"test_files\\config_L151_f1320305.yaml\"\n",
    "# config_filename = \"test_files\\config_L515_f1231322.yaml\"\n",
    "\n",
    "for i in range(0,101, laser_intensity_factor):\n",
    "    print(\"Intensity \", i)\n",
    "    h5py_filename = os.path.join(f, \"file\" + str(i) + \".h5py\", )\n",
    "    files.append(h5py_filename)\n",
    "    recorder = Recorder(config_filename, h5py_filename)\n",
    "    recorder.device.driver.set_laser_intensity(i)\n",
    "    recorder.start() \n",
    "    recorder.stop()\n",
    "    recorder.save_h5py_file()\n",
    "    recorder.device.driver.hardware_reset()\n",
    "    sleep(5)\n",
    "print(f)\n"
   ]
  },
  {
   "cell_type": "code",
   "execution_count": null,
   "metadata": {},
   "outputs": [
    {
     "name": "stdout",
     "output_type": "stream",
     "text": [
      "file 0 -> [ 7  8  9 10 10 11 12 13 14 15 16 17 18 18 19 20 21 22 23 24 25 26 27 28\n",
      " 29 30 31 32 33 34]\n",
      "file 1 -> [10 10 11 12 13 14 15 16 17 18 18 19 20 21 22 23 24 25 26 27 28 29 30 31\n",
      " 32 33 34  1  2  3]\n",
      "file 2 -> [ 8  8  9 10 11 12 13 14 15 16 17 18 19 20 21 22 23 24 25 26 27 28 29 30\n",
      " 31 32 32 33 34 34]\n",
      "file 3 -> [ 9 10 11 12 13 14 15 16 17 18 19 20 21 22 23 24 25 26 27 28 29 30 31 32\n",
      " 32 33 34 34  1  2]\n",
      "file 4 -> [ 6  7  8  9 10 11 12 13 14 15 16 17 18 19 20 21 22 23 24 24 25 26 27 28\n",
      " 29 30 31 32 33 34]\n",
      "file 5 -> [ 7  8  9 10 11 12 13 14 15 16 17 18 19 20 21 22 23 24 24 25 26 27 28 29\n",
      " 30 31 32 33 34  1]\n",
      "file 6 -> [ 9  9 10 11 12 13 13 14 15 16 17 18 19 19 20 21 22 23 24 25 26 27 28 30\n",
      " 31 31 32 33 34 35]\n",
      "file 7 -> [ 9 10 11 12 13 13 14 15 16 17 18 19 19 20 21 22 23 24 25 26 27 28 30 31\n",
      " 31 32 33 34 35  1]\n",
      "file 8 -> [ 5  6  7  8  9 10 11 12 13 14 15 16 17 18 19 20 21 22 23 24 25 26 27 28\n",
      " 29 30 31 32 33 33]\n",
      "file 9 -> [ 6  7  8  9 10 11 12 13 14 15 16 17 18 19 20 21 22 23 24 25 26 27 28 29\n",
      " 30 31 32 33 33  1]\n",
      "file 10 -> [11 12 12 13 14 15 16 16 17 18 19 20 21 22 23 24 25 26 27 28 29 30 31 32\n",
      " 32 33 34 35 36 37]\n"
     ]
    }
   ],
   "source": [
    "file_dict = {}\n",
    "\n",
    "for i in range(len(files)):\n",
    "    with h5py.File(files[i], \"r\") as f:\n",
    "\n",
    "        frames = f.get(\"frameN\")[:]\n",
    "        depth = f.get(\"depth\")[:]\n",
    "        infrared = f.get(\"infrared\")[:]\n",
    "\n",
    "        data = {\n",
    "            # COLOR : color,\n",
    "            DEPTH : depth,\n",
    "            INFRARED : infrared\n",
    "        }        \n",
    "\n",
    "        img_dicts = {}\n",
    "\n",
    "        # calculates the computation for the frame type\n",
    "        for frame_type, images in data.items():\n",
    "            img_computation = {}\n",
    "\n",
    "            img_computation[MEAN] = np.mean(images, axis = 0, dtype=np.float64)\n",
    "            img_computation[STD] = np.std(images, axis = 0, dtype=np.float64)\n",
    "            img_computation[VAR] = np.var(images, axis = 0, dtype=np.float64)\n",
    "            \n",
    "            img_dicts[frame_type] = img_computation\n",
    "\n",
    "        file_dict[\"file\"+ str(i)] = img_dicts\n",
    "        print(f'file {i} -> {frames}')\n",
    "\n",
    "\n",
    "        "
   ]
  },
  {
   "cell_type": "code",
   "execution_count": null,
   "metadata": {},
   "outputs": [
    {
     "ename": "NameError",
     "evalue": "name 'num_of_imgs' is not defined",
     "output_type": "error",
     "traceback": [
      "\u001b[1;31m---------------------------------------------------------------------------\u001b[0m",
      "\u001b[1;31mNameError\u001b[0m                                 Traceback (most recent call last)",
      "\u001b[1;32mc:\\Users\\Abdel Nasser\\Documents\\L151 Camera\\intel-realsense-devices\\intel_realsense_devices\\test.ipynb Cell 8\u001b[0m in \u001b[0;36m<cell line: 33>\u001b[1;34m()\u001b[0m\n\u001b[0;32m     <a href='vscode-notebook-cell:/c%3A/Users/Abdel%20Nasser/Documents/L151%20Camera/intel-realsense-devices/intel_realsense_devices/test.ipynb#ch0000032?line=29'>30</a>\u001b[0m plt\u001b[39m.\u001b[39mimshow(depth[\u001b[39m0\u001b[39m][\u001b[39m150\u001b[39m:\u001b[39m400\u001b[39m,\u001b[39m120\u001b[39m:\u001b[39m500\u001b[39m])\n\u001b[0;32m     <a href='vscode-notebook-cell:/c%3A/Users/Abdel%20Nasser/Documents/L151%20Camera/intel-realsense-devices/intel_realsense_devices/test.ipynb#ch0000032?line=31'>32</a>\u001b[0m \u001b[39m# live stream color imgs in slow motion\u001b[39;00m\n\u001b[1;32m---> <a href='vscode-notebook-cell:/c%3A/Users/Abdel%20Nasser/Documents/L151%20Camera/intel-realsense-devices/intel_realsense_devices/test.ipynb#ch0000032?line=32'>33</a>\u001b[0m \u001b[39mfor\u001b[39;00m i \u001b[39min\u001b[39;00m \u001b[39mrange\u001b[39m(num_of_imgs):\n\u001b[0;32m     <a href='vscode-notebook-cell:/c%3A/Users/Abdel%20Nasser/Documents/L151%20Camera/intel-realsense-devices/intel_realsense_devices/test.ipynb#ch0000032?line=33'>34</a>\u001b[0m     \u001b[39mif\u001b[39;00m depth[i] \u001b[39mis\u001b[39;00m \u001b[39mnot\u001b[39;00m \u001b[39mNone\u001b[39;00m:\n\u001b[0;32m     <a href='vscode-notebook-cell:/c%3A/Users/Abdel%20Nasser/Documents/L151%20Camera/intel-realsense-devices/intel_realsense_devices/test.ipynb#ch0000032?line=34'>35</a>\u001b[0m         sleep(\u001b[39m.1\u001b[39m)\n",
      "\u001b[1;31mNameError\u001b[0m: name 'num_of_imgs' is not defined"
     ]
    },
    {
     "data": {
      "image/png": "[encoded data removed]",
      "text/plain": [
       "<Figure size 432x288 with 1 Axes>"
      ]
     },
     "metadata": {
      "needs_background": "light"
     },
     "output_type": "display_data"
    },
    {
     "data": {
      "image/png": "[encoded data removed]",
      "text/plain": [
       "<Figure size 432x288 with 1 Axes>"
      ]
     },
     "metadata": {
      "needs_background": "light"
     },
     "output_type": "display_data"
    },
    {
     "data": {
      "image/png": "[encoded data removed]",
      "text/plain": [
       "<Figure size 432x288 with 1 Axes>"
      ]
     },
     "metadata": {
      "needs_background": "light"
     },
     "output_type": "display_data"
    }
   ],
   "source": [
    "import cv2\n",
    "from typing import Optional, Tuple\n",
    "import numpy as np\n",
    "import cv2\n",
    "# plays a live stream of the last file that was saved. \n",
    "# test the image slice \n",
    "def colorize(\n",
    "    image: np.ndarray,\n",
    "    clipping_range: Tuple[Optional[int], Optional[int]] = (None, None),\n",
    "    colormap: int = cv2.COLORMAP_HSV,\n",
    ") -> np.ndarray:\n",
    "    if clipping_range[0] or clipping_range[1]:\n",
    "        img = image.clip(clipping_range[0], clipping_range[1])\n",
    "    else:\n",
    "        img = image.copy()\n",
    "    img = cv2.normalize(img, None, 0, 255, cv2.NORM_MINMAX, dtype=cv2.CV_8U)\n",
    "    img = cv2.applyColorMap(img, colormap)\n",
    "    return img\n",
    "\n",
    "\n",
    "# Testing different slices.\n",
    "# different slices can produce different results. \n",
    "plt.figure()\n",
    "plt.imshow(depth[0])\n",
    "\n",
    "plt.figure()\n",
    "plt.imshow(depth[0][150:400,70:500])\n",
    "\n",
    "plt.figure()\n",
    "plt.imshow(depth[0][150:400,120:500])\n",
    "\n",
    "# live stream color imgs in slow motion\n",
    "for i in range(num_of_imgs):\n",
    "    if depth[i] is not None:\n",
    "        sleep(.1)\n",
    "        cv2.imshow(\"Depth\", colorize(depth[i], (None, 5000)))\n",
    "\n",
    "    key = cv2.waitKey(10)\n",
    "    if key != -1:\n",
    "        cv2.destroyAllWindows()\n",
    "cv2.destroyAllWindows()\n"
   ]
  },
  {
   "cell_type": "code",
   "execution_count": null,
   "metadata": {},
   "outputs": [
    {
     "name": "stdout",
     "output_type": "stream",
     "text": [
      "[0.0, 0.0, 0.0, 0.0, 0.0, 0.0, 0.0, 0.0, 0.0, 0.0]\n",
      "[10, 20, 30, 40, 50, 60, 70, 80, 90, 100]\n"
     ]
    },
    {
     "data": {
      "image/png": "[encoded data removed]",
      "text/plain": [
       "<Figure size 432x288 with 1 Axes>"
      ]
     },
     "metadata": {
      "needs_background": "light"
     },
     "output_type": "display_data"
    },
    {
     "data": {
      "image/png": "[encoded data removed]",
      "text/plain": [
       "<Figure size 432x288 with 1 Axes>"
      ]
     },
     "metadata": {
      "needs_background": "light"
     },
     "output_type": "display_data"
    }
   ],
   "source": [
    "from scipy.linalg import norm\n",
    "num_of_imgs = len(files)\n",
    "imgs = []\n",
    "\n",
    "img1 = file_dict[\"file0\"][\"depth\"][\"mean\"][150:400,70:500]\n",
    "plt.figure()\n",
    "plt.imshow(img1)\n",
    "\n",
    "for i in range(num_of_imgs):\n",
    "    imgs.append(file_dict[\"file\"+ str(i)][\"depth\"][\"mean\"][150:400,70:500])\n",
    "\n",
    "# imgs_division_img1 = []\n",
    "# diff_img1 = []\n",
    "# # divide all images by image 1 \n",
    "# for i in range(len(imgs)):\n",
    "#     imgs_division_img1.append(np.divide(imgs[i], img1))\n",
    "\n",
    "# for i in range(len(imgs)):\n",
    "#     difference = imgs[i] - img1\n",
    "#     diff_img1.append(difference)\n",
    "\n",
    "z_norm_l = []\n",
    "\n",
    "for img in range(1,len(imgs)):\n",
    "    diff = imgs[img] - img1  \n",
    "    m_norm = sum(abs(diff))  # Manhattan norm\n",
    "    z_norm = norm(diff.ravel(), 0)  # Zero norm\n",
    "    # print(\" \", z_norm)\n",
    "    # print(\"Manhattan norm:\", m_norm, \"/ per pixel:\", m_norm/img1.size)\n",
    "    # print(\"Zero norm:\", z_norm, \"/ per pixel:\", z_norm*1.0/img1.size)\n",
    "    z_norm_l.append(z_norm*1.0/img1.size)\n",
    "\n",
    "print(z_norm_l)\n",
    "x = [i*laser_intensity_factor for i in range(1, num_of_imgs)]\n",
    "\n",
    "print(x)\n",
    "\n",
    "plt.figure()\n",
    "plt.title(\"Laser Inensity, Z Norm graph\")\n",
    "plt.plot(x, z_norm_l, color=\"red\")\n",
    "plt.show()\n",
    "\n",
    "    "
   ]
  },
  {
   "cell_type": "code",
   "execution_count": null,
   "metadata": {},
   "outputs": [
    {
     "data": {
      "image/png": "[encoded data removed]",
      "text/plain": [
       "<Figure size 432x288 with 1 Axes>"
      ]
     },
     "metadata": {
      "needs_background": "light"
     },
     "output_type": "display_data"
    },
    {
     "data": {
      "image/png": "[encoded data removed]",
      "text/plain": [
       "<Figure size 432x288 with 1 Axes>"
      ]
     },
     "metadata": {
      "needs_background": "light"
     },
     "output_type": "display_data"
    }
   ],
   "source": [
    "from skimage.metrics import structural_similarity as ssim\n",
    "\n",
    "\n",
    "def mse(imageA, imageB):\n",
    "\t# the 'Mean Squared Error' between the two images is the\n",
    "\t# sum of the squared difference between the two images;\n",
    "\t# NOTE: the two images must have the same dimension\n",
    "\terr = np.sum((imageA.astype(\"float\") - imageB.astype(\"float\")) ** 2)\n",
    "\terr /= float(imageA.shape[0] * imageA.shape[1])\n",
    "\t\n",
    "\t# return the MSE, the lower the error, the more \"similar\"\n",
    "\t# the two images are\n",
    "\treturn err\n",
    "\n",
    "mse_l = []\n",
    "ssim_l = []\n",
    "\n",
    "for img in range(1,len(imgs)):\n",
    "\tmse_value = mse(imgs[img],img1)\n",
    "\tssim_value = ssim(imgs[img],img1)\n",
    "\tmse_l.append(mse_value)\n",
    "\tssim_l.append(ssim_value)\n",
    "\n",
    "\n",
    "plt.title(\"MSE Inensity graph\")\n",
    "plt.plot(x, mse_l, color=\"red\")\n",
    "plt.show()\n",
    "\n",
    "\n",
    "plt.title(\"SSIM Laser Inensity graph\")\n",
    "plt.plot(x, ssim_l, color=\"blue\")\n",
    "plt.show()\n",
    "        "
   ]
  }
 ],
 "metadata": {
  "kernelspec": {
   "display_name": "Python 3.8.0 64-bit (system)",
   "language": "python",
   "name": "python3"
  },
  "language_info": {
   "codemirror_mode": {
    "name": "ipython",
    "version": 3
   },
   "file_extension": ".py",
   "mimetype": "text/x-python",
   "name": "python",
   "nbconvert_exporter": "python",
   "pygments_lexer": "ipython3",
   "version": "3.8.0"
  },
  "orig_nbformat": 4,
  "vscode": {
   "interpreter": {
    "hash": "76d7bd5c9a9eda3e79007884101c4a73f741dff3b57b22085fd7cda244a5fb76"
   }
  }
 },
 "nbformat": 4,
 "nbformat_minor": 2
}
