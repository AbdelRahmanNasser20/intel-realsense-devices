{
 "cells": [
  {
   "cell_type": "code",
   "execution_count": 117,
   "metadata": {},
   "outputs": [],
   "source": [
    "from matplotlib import pyplot as plt\n",
    "from time import time, sleep\n",
    "import tempfile \n",
    "from time import sleep\n",
    "import h5py\n",
    "import os\n",
    "import numpy as np\n",
    "import cv2\n",
    "\n",
    "COLOR = \"color\"\n",
    "FRAMEN = \"framen\"\n",
    "DEPTH = \"depth\"\n",
    "INFRARED = \"infrared\"\n",
    "\n",
    "MEAN = \"mean\"\n",
    "STD = \"std\"\n",
    "VAR = \"VAR\"\n",
    "laser_intensity_factor = 1"
   ]
  },
  {
   "cell_type": "code",
   "execution_count": 141,
   "metadata": {},
   "outputs": [],
   "source": [
    "# testing files in my dierctory\n",
    "import os\n",
    "# assign directory\n",
    "# C:\\Users\\ABDELN~1\\AppData\\Local\\Temp\\tmpeyfnacfd \n",
    "# This contains my first test using 10 files for 10 images\n",
    "\n",
    "# C:\\Users\\ABDELN~1\\AppData\\Local\\Temp\\tmpmne0y_9c 8/26/22 11:00 pm dat 100 images of flat image\n",
    "directory = r\"C:\\Users\\ABDELN~1\\AppData\\Local\\Temp\\tmpmne0y_9c\"\n",
    "depth_dict = {}\n",
    "files = []\n",
    "# iterate over files in\n",
    "# that directory\n",
    "i = 0\n",
    "for filename in os.listdir(directory):\n",
    "    file = os.path.join(directory, filename)\n",
    "    # checking if it is a file\n",
    "    if os.path.isfile(file):\n",
    "        with h5py.File(file, \"r\") as f:\n",
    "            depth = f.get(\"depth\")[:] # get the depth images\n",
    "            filename = filename[4:len(filename)-5]\n",
    "            depth_dict[(filename)] = depth \n",
    "    i+=1\n",
    "depth_dict = {key: value for key, value in sorted(depth_dict.items())}"
   ]
  },
  {
   "cell_type": "code",
   "execution_count": null,
   "metadata": {},
   "outputs": [],
   "source": [
    "def load_from_file(filename, protocol = 'pickle'):\n",
    "    \"\"\"\n",
    "    read object from a file\n",
    "    Parameters\n",
    "    ----------\n",
    "    filename : string\n",
    "        the full path and filename\n",
    "    Returns\n",
    "    -------\n",
    "    object : object\n",
    "        input object to save.\n",
    "    Examples\n",
    "    --------\n",
    "    the example of usage\n",
    "    >>> list_out = load_from_file('list.extension')\n",
    "    \"\"\"\n",
    "    if protocol == 'pickle':\n",
    "        from pickle import load\n",
    "        with open(filename,'rb') as f:\n",
    "            data = load(f, encoding='bytes')\n",
    "        return data\n",
    "    elif protocol == 'hdf5':\n",
    "        from h5py import File\n",
    "        with File(filename, \"r\") as f:\n",
    "            pass\n",
    "# Use this line to load in the depth dict ficle that I have attached\n",
    "# depth_dict = load_from_file(\"depth_dict\")\n",
    "\n",
    "def save_to_file(filename, object, protocol = 'pickle'):\n",
    "    \"\"\"\n",
    "    save a python object to a file\n",
    "    Parameters\n",
    "    ----------\n",
    "    Args:\n",
    "        filename (string)\n",
    "            the full path and filename\n",
    "        object (python object)\n",
    "            a python object\n",
    "    Returns\n",
    "    -------\n",
    "    Examples\n",
    "    --------\n",
    "    the example of usage\n",
    "    >>> save_to_file('test.pkl',[1,2,3])\n",
    "    \"\"\"\n",
    "    if protocol =='pickle':\n",
    "        from pickle import dumps\n",
    "        data = dumps(object)\n",
    "        with open(filename,\"wb\") as f:\n",
    "            f.write(data)\n",
    "    elif protocol == 'msgpack':\n",
    "        import msgpack\n",
    "        import msgpack_numpy as m\n",
    "        data = msgpack.packb(object, default=m.encode)\n",
    "        filename += '.msgpck'\n",
    "        with open(filename,\"wb\") as f:\n",
    "            f.write(data)\n",
    "    elif protocol == 'hdf5':\n",
    "        from h5py import File\n",
    "        filename += '.hdf5'\n",
    "        with File(filename, \"w\") as file:\n",
    "            file.create_dataset(\"object\", data=object)\n"
   ]
  },
  {
   "cell_type": "code",
   "execution_count": 170,
   "metadata": {},
   "outputs": [
    {
     "name": "stderr",
     "output_type": "stream",
     "text": [
      "C:\\Users\\Abdel Nasser\\AppData\\Local\\Temp\\ipykernel_13108\\919180778.py:22: RuntimeWarning: Mean of empty slice\n",
      "  return np.nanmean(arr_float64,axis=axis)\n"
     ]
    }
   ],
   "source": [
    "# This is where I calculate the mean of the depth images utilizing the depth dict\n",
    "from numpy import nanmean\n",
    "def nonzeromean(arr):\n",
    "    \"\"\"\n",
    "    returns non-zero and nan mean of a given array.\n",
    "    \"\"\"\n",
    "    from numpy import nanmean, where\n",
    "    idx = where(arr != 0)\n",
    "    if idx[0].shape[0] > 0:\n",
    "        return nanmean(arr[idx])\n",
    "    else:\n",
    "        return None\n",
    "\n",
    "def mean_ignore(arr, axis, ignore = 0):\n",
    "    \"\"\"\n",
    "    computes mean ignoring 'ignore' value\n",
    "    \"\"\"\n",
    "    import numpy as np\n",
    "    mask = arr == ignore\n",
    "    arr_float64 = arr.astype('float64')\n",
    "    arr_float64[mask] = np.nan\n",
    "    return np.nanmean(arr_float64,axis=axis)\n",
    "\n",
    "# Use this line to load in the depth dict that I attached \n",
    "# depth_dict = load_from_file(\"depth_dict\")\n",
    "mean_images = []\n",
    "# iterate over the images in the depth dict \n",
    "for key, images in depth_dict.items():\n",
    "    mean_img = mean_ignore(images, axis = 0) # find the non-zero mean of the 30 photos in each data set\n",
    "    mean_img = mean_img[200:300,200:300]*.25 # slice the region wanted and multiply by .25 to get distance in mm\n",
    "    non_zero_mean = nanmean(mean_img) # find the non zero avg depth of each pixel in mean_img \n",
    "    mean_images.append(non_zero_mean) # append the avg distance to a list\n"
   ]
  },
  {
   "cell_type": "code",
   "execution_count": 169,
   "metadata": {},
   "outputs": [
    {
     "name": "stdout",
     "output_type": "stream",
     "text": [
      "there are 101 images\n"
     ]
    },
    {
     "data": {
      "image/png": "[encoded data removed]",
      "text/plain": [
       "<Figure size 432x288 with 1 Axes>"
      ]
     },
     "metadata": {
      "needs_background": "light"
     },
     "output_type": "display_data"
    }
   ],
   "source": [
    "laser_intensity = [i for i in range(len(mean_images))]\n",
    "print(f\"there are {len(mean_images)} images\")\n",
    "index = len(mean_images)-3\n",
    "\n",
    "plt.title(label=\"How laser intensity affects depth of a flat region\",\n",
    "          fontsize=30)\n",
    "\n",
    "plt.xlabel(\"Laser intensity (%)\") \n",
    "plt.ylabel(\"depth of a flat region (mm)\") \n",
    "\n",
    "plt.plot(laser_intensity, mean_images, color=\"blue\")\n",
    "plt.show()"
   ]
  }
 ],
 "metadata": {
  "kernelspec": {
   "display_name": "Python 3.8.0 64-bit (system)",
   "language": "python",
   "name": "python3"
  },
  "language_info": {
   "codemirror_mode": {
    "name": "ipython",
    "version": 3
   },
   "file_extension": ".py",
   "mimetype": "text/x-python",
   "name": "python",
   "nbconvert_exporter": "python",
   "pygments_lexer": "ipython3",
   "version": "3.8.0"
  },
  "orig_nbformat": 4,
  "vscode": {
   "interpreter": {
    "hash": "76d7bd5c9a9eda3e79007884101c4a73f741dff3b57b22085fd7cda244a5fb76"
   }
  }
 },
 "nbformat": 4,
 "nbformat_minor": 2
}
